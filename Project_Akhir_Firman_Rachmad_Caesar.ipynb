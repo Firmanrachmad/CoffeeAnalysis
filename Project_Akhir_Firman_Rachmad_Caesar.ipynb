{
  "nbformat": 4,
  "nbformat_minor": 0,
  "metadata": {
    "colab": {
      "provenance": [],
      "authorship_tag": "ABX9TyPDItrodDqImH9bBkHOcLKU",
      "include_colab_link": true
    },
    "kernelspec": {
      "name": "python3",
      "display_name": "Python 3"
    },
    "language_info": {
      "name": "python"
    }
  },
  "cells": [
    {
      "cell_type": "markdown",
      "metadata": {
        "id": "view-in-github",
        "colab_type": "text"
      },
      "source": [
        "<a href=\"https://colab.research.google.com/github/Firmanrachmad/CoffeeAnalysis/blob/main/Project_Akhir_Firman_Rachmad_Caesar.ipynb\" target=\"_parent\"><img src=\"https://colab.research.google.com/assets/colab-badge.svg\" alt=\"Open In Colab\"/></a>"
      ]
    },
    {
      "cell_type": "code",
      "execution_count": null,
      "metadata": {
        "id": "aV-OcnYCR8nG"
      },
      "outputs": [],
      "source": [
        "# Analisa Review Data Pemanggang Kopi \n",
        "# Firman Rachmad Caesar / 2241727015\n",
        "# TI-4J / 16"
      ]
    },
    {
      "cell_type": "code",
      "source": [
        "# import library\n",
        "import numpy as np, pandas as pd\n",
        "import seaborn as sns\n",
        "import matplotlib.pyplot as plt\n",
        "import seaborn as sns\n",
        "from sklearn.datasets import make_classification\n",
        "from sklearn.datasets import fetch_20newsgroups\n",
        "from sklearn.feature_extraction.text import TfidfVectorizer, CountVectorizer\n",
        "from sklearn.naive_bayes import MultinomialNB, CategoricalNB, GaussianNB\n",
        "from sklearn.pipeline import make_pipeline\n",
        "from sklearn.metrics import confusion_matrix, accuracy_score\n",
        "from sklearn.preprocessing import LabelEncoder\n",
        "from sklearn.model_selection import train_test_split\n",
        "from sklearn.ensemble import RandomForestClassifier \n",
        "from google.colab import drive\n",
        "drive.mount('/content/drive')"
      ],
      "metadata": {
        "colab": {
          "base_uri": "https://localhost:8080/"
        },
        "id": "HxWZXnDKSGIE",
        "outputId": "cc8c71c5-d12c-442f-b9c7-34d5060ed702"
      },
      "execution_count": 1,
      "outputs": [
        {
          "output_type": "stream",
          "name": "stdout",
          "text": [
            "Mounted at /content/drive\n"
          ]
        }
      ]
    },
    {
      "cell_type": "code",
      "source": [
        "# baca data\n",
        "data = pd.read_csv('/content/drive/MyDrive/MachineL/coffee_df.csv')\n",
        "data.head()"
      ],
      "metadata": {
        "id": "VUjNAy8FSPSv",
        "colab": {
          "base_uri": "https://localhost:8080/",
          "height": 734
        },
        "outputId": "6a4a0ece-c576-40cc-b35c-ee614fa03b56"
      },
      "execution_count": 2,
      "outputs": [
        {
          "output_type": "execute_result",
          "data": {
            "text/plain": [
              "                                                slug  \\\n",
              "0  https://www.coffeereview.com/review/wilton-ben...   \n",
              "1  https://www.coffeereview.com/review/colombia-c...   \n",
              "2  https://www.coffeereview.com/review/yirgacheff...   \n",
              "3  https://www.coffeereview.com/review/colombia-t...   \n",
              "4  https://www.coffeereview.com/review/panama-gei...   \n",
              "\n",
              "                                            all_text  rating  \\\n",
              "0   \\n\\n\\n95\\n\\n\\nJBC Coffee Roasters\\nWilton Ben...      95   \n",
              "1   \\n\\n\\n95\\n\\n\\nBird Rock Coffee Roasters\\nColo...      95   \n",
              "2   \\n\\n\\n94\\n\\n\\nRegent Coffee\\nYirgacheffe Meng...      94   \n",
              "3   \\n\\n\\n93\\n\\n\\nRegent Coffee\\nColombia Tolima ...      93   \n",
              "4   \\n\\n\\n94\\n\\n\\nTheory Coffee Roasters\\nPanama ...      94   \n",
              "\n",
              "                     roaster  \\\n",
              "0        JBC Coffee Roasters   \n",
              "1  Bird Rock Coffee Roasters   \n",
              "2              Regent Coffee   \n",
              "3              Regent Coffee   \n",
              "4     Theory Coffee Roasters   \n",
              "\n",
              "                                                name  region_africa_arabia  \\\n",
              "0                              Wilton Benitez Geisha                     0   \n",
              "1                         Colombia Cerro Azul Geisha                     0   \n",
              "2                       Yirgacheffe Mengesha Natural                     1   \n",
              "3  Colombia Tolima Finca El Mirador Washed Anaerobic                     0   \n",
              "4                Panama Geisha Finca Debra Symbiosis                     0   \n",
              "\n",
              "   region_caribbean  region_central_america  region_hawaii  \\\n",
              "0                 0                       0              0   \n",
              "1                 0                       0              0   \n",
              "2                 0                       0              0   \n",
              "3                 0                       0              0   \n",
              "4                 0                       1              0   \n",
              "\n",
              "   region_asia_pacific  ...  agtron  aroma  acid  body  flavor  aftertaste  \\\n",
              "0                    0  ...   59/81    9.0   9.0   9.0     9.0         9.0   \n",
              "1                    0  ...   62/80    9.0   9.0   9.0     9.0         9.0   \n",
              "2                    0  ...   60/77    9.0   9.0   9.0     9.0         8.0   \n",
              "3                    0  ...   59/79    9.0   9.0   8.0     9.0         8.0   \n",
              "4                    0  ...   62/80    9.0   9.0   9.0     9.0         8.0   \n",
              "\n",
              "   with_milk                                             desc_1  \\\n",
              "0        NaN  Richly floral-toned, exceptionally sweet. Dist...   \n",
              "1        NaN  Richly aromatic, chocolaty, fruit-toned. Dark ...   \n",
              "2        NaN  High-toned, fruit-driven. Boysenberry, pear, c...   \n",
              "3        NaN  Delicately fruit-toned. Guava, ginger blossom,...   \n",
              "4        NaN  Richly fruit-forward, floral-toned. Lychee, te...   \n",
              "\n",
              "                                              desc_2  \\\n",
              "0  Produced by Wilton Benitez of Macarena Farm en...   \n",
              "1  Produced by Rigoberto Herrera of Granja La Esp...   \n",
              "2  Produced at Mengesha Farm from selections of i...   \n",
              "3  Produced by Victor Gutiérrez of Finca Mirador ...   \n",
              "4  Produced by Jamison Savage of Finca Debra enti...   \n",
              "\n",
              "                                              desc_3  \n",
              "0  A nuanced, complex experimentally processed Co...  \n",
              "1  A trifecta of fruit, chocolate and flowers, bo...  \n",
              "2  A fruit medley in a cup — think boysenberry an...  \n",
              "3  An appealing washed anaerobic cup: deep-toned,...  \n",
              "4  A floral- and fruit-driven anaerobic natural P...  \n",
              "\n",
              "[5 rows x 37 columns]"
            ],
            "text/html": [
              "\n",
              "  <div id=\"df-bf14120b-4b24-4452-9889-a143dd14689f\">\n",
              "    <div class=\"colab-df-container\">\n",
              "      <div>\n",
              "<style scoped>\n",
              "    .dataframe tbody tr th:only-of-type {\n",
              "        vertical-align: middle;\n",
              "    }\n",
              "\n",
              "    .dataframe tbody tr th {\n",
              "        vertical-align: top;\n",
              "    }\n",
              "\n",
              "    .dataframe thead th {\n",
              "        text-align: right;\n",
              "    }\n",
              "</style>\n",
              "<table border=\"1\" class=\"dataframe\">\n",
              "  <thead>\n",
              "    <tr style=\"text-align: right;\">\n",
              "      <th></th>\n",
              "      <th>slug</th>\n",
              "      <th>all_text</th>\n",
              "      <th>rating</th>\n",
              "      <th>roaster</th>\n",
              "      <th>name</th>\n",
              "      <th>region_africa_arabia</th>\n",
              "      <th>region_caribbean</th>\n",
              "      <th>region_central_america</th>\n",
              "      <th>region_hawaii</th>\n",
              "      <th>region_asia_pacific</th>\n",
              "      <th>...</th>\n",
              "      <th>agtron</th>\n",
              "      <th>aroma</th>\n",
              "      <th>acid</th>\n",
              "      <th>body</th>\n",
              "      <th>flavor</th>\n",
              "      <th>aftertaste</th>\n",
              "      <th>with_milk</th>\n",
              "      <th>desc_1</th>\n",
              "      <th>desc_2</th>\n",
              "      <th>desc_3</th>\n",
              "    </tr>\n",
              "  </thead>\n",
              "  <tbody>\n",
              "    <tr>\n",
              "      <th>0</th>\n",
              "      <td>https://www.coffeereview.com/review/wilton-ben...</td>\n",
              "      <td>\\n\\n\\n95\\n\\n\\nJBC Coffee Roasters\\nWilton Ben...</td>\n",
              "      <td>95</td>\n",
              "      <td>JBC Coffee Roasters</td>\n",
              "      <td>Wilton Benitez Geisha</td>\n",
              "      <td>0</td>\n",
              "      <td>0</td>\n",
              "      <td>0</td>\n",
              "      <td>0</td>\n",
              "      <td>0</td>\n",
              "      <td>...</td>\n",
              "      <td>59/81</td>\n",
              "      <td>9.0</td>\n",
              "      <td>9.0</td>\n",
              "      <td>9.0</td>\n",
              "      <td>9.0</td>\n",
              "      <td>9.0</td>\n",
              "      <td>NaN</td>\n",
              "      <td>Richly floral-toned, exceptionally sweet. Dist...</td>\n",
              "      <td>Produced by Wilton Benitez of Macarena Farm en...</td>\n",
              "      <td>A nuanced, complex experimentally processed Co...</td>\n",
              "    </tr>\n",
              "    <tr>\n",
              "      <th>1</th>\n",
              "      <td>https://www.coffeereview.com/review/colombia-c...</td>\n",
              "      <td>\\n\\n\\n95\\n\\n\\nBird Rock Coffee Roasters\\nColo...</td>\n",
              "      <td>95</td>\n",
              "      <td>Bird Rock Coffee Roasters</td>\n",
              "      <td>Colombia Cerro Azul Geisha</td>\n",
              "      <td>0</td>\n",
              "      <td>0</td>\n",
              "      <td>0</td>\n",
              "      <td>0</td>\n",
              "      <td>0</td>\n",
              "      <td>...</td>\n",
              "      <td>62/80</td>\n",
              "      <td>9.0</td>\n",
              "      <td>9.0</td>\n",
              "      <td>9.0</td>\n",
              "      <td>9.0</td>\n",
              "      <td>9.0</td>\n",
              "      <td>NaN</td>\n",
              "      <td>Richly aromatic, chocolaty, fruit-toned. Dark ...</td>\n",
              "      <td>Produced by Rigoberto Herrera of Granja La Esp...</td>\n",
              "      <td>A trifecta of fruit, chocolate and flowers, bo...</td>\n",
              "    </tr>\n",
              "    <tr>\n",
              "      <th>2</th>\n",
              "      <td>https://www.coffeereview.com/review/yirgacheff...</td>\n",
              "      <td>\\n\\n\\n94\\n\\n\\nRegent Coffee\\nYirgacheffe Meng...</td>\n",
              "      <td>94</td>\n",
              "      <td>Regent Coffee</td>\n",
              "      <td>Yirgacheffe Mengesha Natural</td>\n",
              "      <td>1</td>\n",
              "      <td>0</td>\n",
              "      <td>0</td>\n",
              "      <td>0</td>\n",
              "      <td>0</td>\n",
              "      <td>...</td>\n",
              "      <td>60/77</td>\n",
              "      <td>9.0</td>\n",
              "      <td>9.0</td>\n",
              "      <td>9.0</td>\n",
              "      <td>9.0</td>\n",
              "      <td>8.0</td>\n",
              "      <td>NaN</td>\n",
              "      <td>High-toned, fruit-driven. Boysenberry, pear, c...</td>\n",
              "      <td>Produced at Mengesha Farm from selections of i...</td>\n",
              "      <td>A fruit medley in a cup — think boysenberry an...</td>\n",
              "    </tr>\n",
              "    <tr>\n",
              "      <th>3</th>\n",
              "      <td>https://www.coffeereview.com/review/colombia-t...</td>\n",
              "      <td>\\n\\n\\n93\\n\\n\\nRegent Coffee\\nColombia Tolima ...</td>\n",
              "      <td>93</td>\n",
              "      <td>Regent Coffee</td>\n",
              "      <td>Colombia Tolima Finca El Mirador Washed Anaerobic</td>\n",
              "      <td>0</td>\n",
              "      <td>0</td>\n",
              "      <td>0</td>\n",
              "      <td>0</td>\n",
              "      <td>0</td>\n",
              "      <td>...</td>\n",
              "      <td>59/79</td>\n",
              "      <td>9.0</td>\n",
              "      <td>9.0</td>\n",
              "      <td>8.0</td>\n",
              "      <td>9.0</td>\n",
              "      <td>8.0</td>\n",
              "      <td>NaN</td>\n",
              "      <td>Delicately fruit-toned. Guava, ginger blossom,...</td>\n",
              "      <td>Produced by Victor Gutiérrez of Finca Mirador ...</td>\n",
              "      <td>An appealing washed anaerobic cup: deep-toned,...</td>\n",
              "    </tr>\n",
              "    <tr>\n",
              "      <th>4</th>\n",
              "      <td>https://www.coffeereview.com/review/panama-gei...</td>\n",
              "      <td>\\n\\n\\n94\\n\\n\\nTheory Coffee Roasters\\nPanama ...</td>\n",
              "      <td>94</td>\n",
              "      <td>Theory Coffee Roasters</td>\n",
              "      <td>Panama Geisha Finca Debra Symbiosis</td>\n",
              "      <td>0</td>\n",
              "      <td>0</td>\n",
              "      <td>1</td>\n",
              "      <td>0</td>\n",
              "      <td>0</td>\n",
              "      <td>...</td>\n",
              "      <td>62/80</td>\n",
              "      <td>9.0</td>\n",
              "      <td>9.0</td>\n",
              "      <td>9.0</td>\n",
              "      <td>9.0</td>\n",
              "      <td>8.0</td>\n",
              "      <td>NaN</td>\n",
              "      <td>Richly fruit-forward, floral-toned. Lychee, te...</td>\n",
              "      <td>Produced by Jamison Savage of Finca Debra enti...</td>\n",
              "      <td>A floral- and fruit-driven anaerobic natural P...</td>\n",
              "    </tr>\n",
              "  </tbody>\n",
              "</table>\n",
              "<p>5 rows × 37 columns</p>\n",
              "</div>\n",
              "      <button class=\"colab-df-convert\" onclick=\"convertToInteractive('df-bf14120b-4b24-4452-9889-a143dd14689f')\"\n",
              "              title=\"Convert this dataframe to an interactive table.\"\n",
              "              style=\"display:none;\">\n",
              "        \n",
              "  <svg xmlns=\"http://www.w3.org/2000/svg\" height=\"24px\"viewBox=\"0 0 24 24\"\n",
              "       width=\"24px\">\n",
              "    <path d=\"M0 0h24v24H0V0z\" fill=\"none\"/>\n",
              "    <path d=\"M18.56 5.44l.94 2.06.94-2.06 2.06-.94-2.06-.94-.94-2.06-.94 2.06-2.06.94zm-11 1L8.5 8.5l.94-2.06 2.06-.94-2.06-.94L8.5 2.5l-.94 2.06-2.06.94zm10 10l.94 2.06.94-2.06 2.06-.94-2.06-.94-.94-2.06-.94 2.06-2.06.94z\"/><path d=\"M17.41 7.96l-1.37-1.37c-.4-.4-.92-.59-1.43-.59-.52 0-1.04.2-1.43.59L10.3 9.45l-7.72 7.72c-.78.78-.78 2.05 0 2.83L4 21.41c.39.39.9.59 1.41.59.51 0 1.02-.2 1.41-.59l7.78-7.78 2.81-2.81c.8-.78.8-2.07 0-2.86zM5.41 20L4 18.59l7.72-7.72 1.47 1.35L5.41 20z\"/>\n",
              "  </svg>\n",
              "      </button>\n",
              "      \n",
              "  <style>\n",
              "    .colab-df-container {\n",
              "      display:flex;\n",
              "      flex-wrap:wrap;\n",
              "      gap: 12px;\n",
              "    }\n",
              "\n",
              "    .colab-df-convert {\n",
              "      background-color: #E8F0FE;\n",
              "      border: none;\n",
              "      border-radius: 50%;\n",
              "      cursor: pointer;\n",
              "      display: none;\n",
              "      fill: #1967D2;\n",
              "      height: 32px;\n",
              "      padding: 0 0 0 0;\n",
              "      width: 32px;\n",
              "    }\n",
              "\n",
              "    .colab-df-convert:hover {\n",
              "      background-color: #E2EBFA;\n",
              "      box-shadow: 0px 1px 2px rgba(60, 64, 67, 0.3), 0px 1px 3px 1px rgba(60, 64, 67, 0.15);\n",
              "      fill: #174EA6;\n",
              "    }\n",
              "\n",
              "    [theme=dark] .colab-df-convert {\n",
              "      background-color: #3B4455;\n",
              "      fill: #D2E3FC;\n",
              "    }\n",
              "\n",
              "    [theme=dark] .colab-df-convert:hover {\n",
              "      background-color: #434B5C;\n",
              "      box-shadow: 0px 1px 3px 1px rgba(0, 0, 0, 0.15);\n",
              "      filter: drop-shadow(0px 1px 2px rgba(0, 0, 0, 0.3));\n",
              "      fill: #FFFFFF;\n",
              "    }\n",
              "  </style>\n",
              "\n",
              "      <script>\n",
              "        const buttonEl =\n",
              "          document.querySelector('#df-bf14120b-4b24-4452-9889-a143dd14689f button.colab-df-convert');\n",
              "        buttonEl.style.display =\n",
              "          google.colab.kernel.accessAllowed ? 'block' : 'none';\n",
              "\n",
              "        async function convertToInteractive(key) {\n",
              "          const element = document.querySelector('#df-bf14120b-4b24-4452-9889-a143dd14689f');\n",
              "          const dataTable =\n",
              "            await google.colab.kernel.invokeFunction('convertToInteractive',\n",
              "                                                     [key], {});\n",
              "          if (!dataTable) return;\n",
              "\n",
              "          const docLinkHtml = 'Like what you see? Visit the ' +\n",
              "            '<a target=\"_blank\" href=https://colab.research.google.com/notebooks/data_table.ipynb>data table notebook</a>'\n",
              "            + ' to learn more about interactive tables.';\n",
              "          element.innerHTML = '';\n",
              "          dataTable['output_type'] = 'display_data';\n",
              "          await google.colab.output.renderOutput(dataTable, element);\n",
              "          const docLink = document.createElement('div');\n",
              "          docLink.innerHTML = docLinkHtml;\n",
              "          element.appendChild(docLink);\n",
              "        }\n",
              "      </script>\n",
              "    </div>\n",
              "  </div>\n",
              "  "
            ]
          },
          "metadata": {},
          "execution_count": 2
        }
      ]
    },
    {
      "cell_type": "code",
      "source": [
        "# Cek jumlah data dan kolom\n",
        "data.shape"
      ],
      "metadata": {
        "colab": {
          "base_uri": "https://localhost:8080/"
        },
        "id": "Tar1vNXuTsXh",
        "outputId": "95a3cb19-b946-44d2-cd88-9449d1de5f0b"
      },
      "execution_count": 3,
      "outputs": [
        {
          "output_type": "execute_result",
          "data": {
            "text/plain": [
              "(2282, 37)"
            ]
          },
          "metadata": {},
          "execution_count": 3
        }
      ]
    },
    {
      "cell_type": "code",
      "source": [
        "# Cek tipe variabel data\n",
        "data.dtypes"
      ],
      "metadata": {
        "colab": {
          "base_uri": "https://localhost:8080/"
        },
        "id": "sKLPmRqJi9t1",
        "outputId": "3d105d64-a5f2-4eca-d3c7-4c7a432b9d30"
      },
      "execution_count": 4,
      "outputs": [
        {
          "output_type": "execute_result",
          "data": {
            "text/plain": [
              "slug                       object\n",
              "all_text                   object\n",
              "rating                      int64\n",
              "roaster                    object\n",
              "name                       object\n",
              "region_africa_arabia        int64\n",
              "region_caribbean            int64\n",
              "region_central_america      int64\n",
              "region_hawaii               int64\n",
              "region_asia_pacific         int64\n",
              "region_south_america        int64\n",
              "type_espresso               int64\n",
              "type_organic                int64\n",
              "type_fair_trade             int64\n",
              "type_decaffeinated          int64\n",
              "type_best_value             int64\n",
              "type_pod_capsule            int64\n",
              "type_blend                  int64\n",
              "type_estate                 int64\n",
              "type_peaberry               int64\n",
              "type_barrel_aged            int64\n",
              "type_aged                   int64\n",
              "location                   object\n",
              "origin                     object\n",
              "roast                      object\n",
              "est_price                  object\n",
              "review_date                object\n",
              "agtron                     object\n",
              "aroma                     float64\n",
              "acid                      float64\n",
              "body                      float64\n",
              "flavor                    float64\n",
              "aftertaste                float64\n",
              "with_milk                 float64\n",
              "desc_1                     object\n",
              "desc_2                     object\n",
              "desc_3                     object\n",
              "dtype: object"
            ]
          },
          "metadata": {},
          "execution_count": 4
        }
      ]
    },
    {
      "cell_type": "code",
      "source": [
        "# Cek data null\n",
        "data.isna().sum()"
      ],
      "metadata": {
        "colab": {
          "base_uri": "https://localhost:8080/"
        },
        "id": "TzIueVJsjN0W",
        "outputId": "a6bbcd2b-5d4d-4b1e-8818-b2060d55644f"
      },
      "execution_count": 5,
      "outputs": [
        {
          "output_type": "execute_result",
          "data": {
            "text/plain": [
              "slug                         0\n",
              "all_text                     0\n",
              "rating                       0\n",
              "roaster                      0\n",
              "name                         0\n",
              "region_africa_arabia         0\n",
              "region_caribbean             0\n",
              "region_central_america       0\n",
              "region_hawaii                0\n",
              "region_asia_pacific          0\n",
              "region_south_america         0\n",
              "type_espresso                0\n",
              "type_organic                 0\n",
              "type_fair_trade              0\n",
              "type_decaffeinated           0\n",
              "type_best_value              0\n",
              "type_pod_capsule             0\n",
              "type_blend                   0\n",
              "type_estate                  0\n",
              "type_peaberry                0\n",
              "type_barrel_aged             0\n",
              "type_aged                    0\n",
              "location                     0\n",
              "origin                       0\n",
              "roast                       53\n",
              "est_price                    5\n",
              "review_date                  0\n",
              "agtron                       0\n",
              "aroma                       26\n",
              "acid                       327\n",
              "body                         2\n",
              "flavor                       2\n",
              "aftertaste                   2\n",
              "with_milk                 1933\n",
              "desc_1                       0\n",
              "desc_2                       0\n",
              "desc_3                       2\n",
              "dtype: int64"
            ]
          },
          "metadata": {},
          "execution_count": 5
        }
      ]
    },
    {
      "cell_type": "code",
      "source": [
        "# Inisiasi label encoder\n",
        "encode = LabelEncoder()\n",
        "\n",
        "# Terpakan label encoder\n",
        "for col in data.columns:\n",
        "  if data[col].dtype == 'object':\n",
        "    data[col] = encode.fit_transform(data[col])"
      ],
      "metadata": {
        "id": "gOG7MhAMJlfn"
      },
      "execution_count": null,
      "outputs": []
    },
    {
      "cell_type": "code",
      "source": [
        "data.head()"
      ],
      "metadata": {
        "colab": {
          "base_uri": "https://localhost:8080/",
          "height": 300
        },
        "id": "HyjOdBsEPayT",
        "outputId": "aaa515c3-f6c1-4027-c72a-9121758ed1d3"
      },
      "execution_count": null,
      "outputs": [
        {
          "output_type": "execute_result",
          "data": {
            "text/plain": [
              "   slug  all_text  rating  roaster  name  region_africa_arabia  \\\n",
              "0  2233      2042      95      218  2030                     0   \n",
              "1   275      1930      95       45   246                     0   \n",
              "2  2272      1824      94      360  2066                     1   \n",
              "3   379      1230      93      360   343                     0   \n",
              "4  1854      1897      94      435  1681                     0   \n",
              "\n",
              "   region_caribbean  region_central_america  region_hawaii  \\\n",
              "0                 0                       0              0   \n",
              "1                 0                       0              0   \n",
              "2                 0                       0              0   \n",
              "3                 0                       0              0   \n",
              "4                 0                       1              0   \n",
              "\n",
              "   region_asia_pacific  ...  agtron  aroma  acid  body  flavor  aftertaste  \\\n",
              "0                    0  ...     249    9.0   9.0   9.0     9.0         9.0   \n",
              "1                    0  ...     276    9.0   9.0   9.0     9.0         9.0   \n",
              "2                    0  ...     254    9.0   9.0   9.0     9.0         8.0   \n",
              "3                    0  ...     248    9.0   9.0   8.0     9.0         8.0   \n",
              "4                    0  ...     276    9.0   9.0   9.0     9.0         8.0   \n",
              "\n",
              "   with_milk  desc_1  desc_2  desc_3  \n",
              "0        NaN    1781    1046    1106  \n",
              "1        NaN    1723     981    1596  \n",
              "2        NaN    1483     641     861  \n",
              "3        NaN     892    1035    1713  \n",
              "4        NaN    1798     858     754  \n",
              "\n",
              "[5 rows x 37 columns]"
            ],
            "text/html": [
              "\n",
              "  <div id=\"df-b3fa463c-7d2d-4e25-a81c-91f6337d8ff6\">\n",
              "    <div class=\"colab-df-container\">\n",
              "      <div>\n",
              "<style scoped>\n",
              "    .dataframe tbody tr th:only-of-type {\n",
              "        vertical-align: middle;\n",
              "    }\n",
              "\n",
              "    .dataframe tbody tr th {\n",
              "        vertical-align: top;\n",
              "    }\n",
              "\n",
              "    .dataframe thead th {\n",
              "        text-align: right;\n",
              "    }\n",
              "</style>\n",
              "<table border=\"1\" class=\"dataframe\">\n",
              "  <thead>\n",
              "    <tr style=\"text-align: right;\">\n",
              "      <th></th>\n",
              "      <th>slug</th>\n",
              "      <th>all_text</th>\n",
              "      <th>rating</th>\n",
              "      <th>roaster</th>\n",
              "      <th>name</th>\n",
              "      <th>region_africa_arabia</th>\n",
              "      <th>region_caribbean</th>\n",
              "      <th>region_central_america</th>\n",
              "      <th>region_hawaii</th>\n",
              "      <th>region_asia_pacific</th>\n",
              "      <th>...</th>\n",
              "      <th>agtron</th>\n",
              "      <th>aroma</th>\n",
              "      <th>acid</th>\n",
              "      <th>body</th>\n",
              "      <th>flavor</th>\n",
              "      <th>aftertaste</th>\n",
              "      <th>with_milk</th>\n",
              "      <th>desc_1</th>\n",
              "      <th>desc_2</th>\n",
              "      <th>desc_3</th>\n",
              "    </tr>\n",
              "  </thead>\n",
              "  <tbody>\n",
              "    <tr>\n",
              "      <th>0</th>\n",
              "      <td>2233</td>\n",
              "      <td>2042</td>\n",
              "      <td>95</td>\n",
              "      <td>218</td>\n",
              "      <td>2030</td>\n",
              "      <td>0</td>\n",
              "      <td>0</td>\n",
              "      <td>0</td>\n",
              "      <td>0</td>\n",
              "      <td>0</td>\n",
              "      <td>...</td>\n",
              "      <td>249</td>\n",
              "      <td>9.0</td>\n",
              "      <td>9.0</td>\n",
              "      <td>9.0</td>\n",
              "      <td>9.0</td>\n",
              "      <td>9.0</td>\n",
              "      <td>NaN</td>\n",
              "      <td>1781</td>\n",
              "      <td>1046</td>\n",
              "      <td>1106</td>\n",
              "    </tr>\n",
              "    <tr>\n",
              "      <th>1</th>\n",
              "      <td>275</td>\n",
              "      <td>1930</td>\n",
              "      <td>95</td>\n",
              "      <td>45</td>\n",
              "      <td>246</td>\n",
              "      <td>0</td>\n",
              "      <td>0</td>\n",
              "      <td>0</td>\n",
              "      <td>0</td>\n",
              "      <td>0</td>\n",
              "      <td>...</td>\n",
              "      <td>276</td>\n",
              "      <td>9.0</td>\n",
              "      <td>9.0</td>\n",
              "      <td>9.0</td>\n",
              "      <td>9.0</td>\n",
              "      <td>9.0</td>\n",
              "      <td>NaN</td>\n",
              "      <td>1723</td>\n",
              "      <td>981</td>\n",
              "      <td>1596</td>\n",
              "    </tr>\n",
              "    <tr>\n",
              "      <th>2</th>\n",
              "      <td>2272</td>\n",
              "      <td>1824</td>\n",
              "      <td>94</td>\n",
              "      <td>360</td>\n",
              "      <td>2066</td>\n",
              "      <td>1</td>\n",
              "      <td>0</td>\n",
              "      <td>0</td>\n",
              "      <td>0</td>\n",
              "      <td>0</td>\n",
              "      <td>...</td>\n",
              "      <td>254</td>\n",
              "      <td>9.0</td>\n",
              "      <td>9.0</td>\n",
              "      <td>9.0</td>\n",
              "      <td>9.0</td>\n",
              "      <td>8.0</td>\n",
              "      <td>NaN</td>\n",
              "      <td>1483</td>\n",
              "      <td>641</td>\n",
              "      <td>861</td>\n",
              "    </tr>\n",
              "    <tr>\n",
              "      <th>3</th>\n",
              "      <td>379</td>\n",
              "      <td>1230</td>\n",
              "      <td>93</td>\n",
              "      <td>360</td>\n",
              "      <td>343</td>\n",
              "      <td>0</td>\n",
              "      <td>0</td>\n",
              "      <td>0</td>\n",
              "      <td>0</td>\n",
              "      <td>0</td>\n",
              "      <td>...</td>\n",
              "      <td>248</td>\n",
              "      <td>9.0</td>\n",
              "      <td>9.0</td>\n",
              "      <td>8.0</td>\n",
              "      <td>9.0</td>\n",
              "      <td>8.0</td>\n",
              "      <td>NaN</td>\n",
              "      <td>892</td>\n",
              "      <td>1035</td>\n",
              "      <td>1713</td>\n",
              "    </tr>\n",
              "    <tr>\n",
              "      <th>4</th>\n",
              "      <td>1854</td>\n",
              "      <td>1897</td>\n",
              "      <td>94</td>\n",
              "      <td>435</td>\n",
              "      <td>1681</td>\n",
              "      <td>0</td>\n",
              "      <td>0</td>\n",
              "      <td>1</td>\n",
              "      <td>0</td>\n",
              "      <td>0</td>\n",
              "      <td>...</td>\n",
              "      <td>276</td>\n",
              "      <td>9.0</td>\n",
              "      <td>9.0</td>\n",
              "      <td>9.0</td>\n",
              "      <td>9.0</td>\n",
              "      <td>8.0</td>\n",
              "      <td>NaN</td>\n",
              "      <td>1798</td>\n",
              "      <td>858</td>\n",
              "      <td>754</td>\n",
              "    </tr>\n",
              "  </tbody>\n",
              "</table>\n",
              "<p>5 rows × 37 columns</p>\n",
              "</div>\n",
              "      <button class=\"colab-df-convert\" onclick=\"convertToInteractive('df-b3fa463c-7d2d-4e25-a81c-91f6337d8ff6')\"\n",
              "              title=\"Convert this dataframe to an interactive table.\"\n",
              "              style=\"display:none;\">\n",
              "        \n",
              "  <svg xmlns=\"http://www.w3.org/2000/svg\" height=\"24px\"viewBox=\"0 0 24 24\"\n",
              "       width=\"24px\">\n",
              "    <path d=\"M0 0h24v24H0V0z\" fill=\"none\"/>\n",
              "    <path d=\"M18.56 5.44l.94 2.06.94-2.06 2.06-.94-2.06-.94-.94-2.06-.94 2.06-2.06.94zm-11 1L8.5 8.5l.94-2.06 2.06-.94-2.06-.94L8.5 2.5l-.94 2.06-2.06.94zm10 10l.94 2.06.94-2.06 2.06-.94-2.06-.94-.94-2.06-.94 2.06-2.06.94z\"/><path d=\"M17.41 7.96l-1.37-1.37c-.4-.4-.92-.59-1.43-.59-.52 0-1.04.2-1.43.59L10.3 9.45l-7.72 7.72c-.78.78-.78 2.05 0 2.83L4 21.41c.39.39.9.59 1.41.59.51 0 1.02-.2 1.41-.59l7.78-7.78 2.81-2.81c.8-.78.8-2.07 0-2.86zM5.41 20L4 18.59l7.72-7.72 1.47 1.35L5.41 20z\"/>\n",
              "  </svg>\n",
              "      </button>\n",
              "      \n",
              "  <style>\n",
              "    .colab-df-container {\n",
              "      display:flex;\n",
              "      flex-wrap:wrap;\n",
              "      gap: 12px;\n",
              "    }\n",
              "\n",
              "    .colab-df-convert {\n",
              "      background-color: #E8F0FE;\n",
              "      border: none;\n",
              "      border-radius: 50%;\n",
              "      cursor: pointer;\n",
              "      display: none;\n",
              "      fill: #1967D2;\n",
              "      height: 32px;\n",
              "      padding: 0 0 0 0;\n",
              "      width: 32px;\n",
              "    }\n",
              "\n",
              "    .colab-df-convert:hover {\n",
              "      background-color: #E2EBFA;\n",
              "      box-shadow: 0px 1px 2px rgba(60, 64, 67, 0.3), 0px 1px 3px 1px rgba(60, 64, 67, 0.15);\n",
              "      fill: #174EA6;\n",
              "    }\n",
              "\n",
              "    [theme=dark] .colab-df-convert {\n",
              "      background-color: #3B4455;\n",
              "      fill: #D2E3FC;\n",
              "    }\n",
              "\n",
              "    [theme=dark] .colab-df-convert:hover {\n",
              "      background-color: #434B5C;\n",
              "      box-shadow: 0px 1px 3px 1px rgba(0, 0, 0, 0.15);\n",
              "      filter: drop-shadow(0px 1px 2px rgba(0, 0, 0, 0.3));\n",
              "      fill: #FFFFFF;\n",
              "    }\n",
              "  </style>\n",
              "\n",
              "      <script>\n",
              "        const buttonEl =\n",
              "          document.querySelector('#df-b3fa463c-7d2d-4e25-a81c-91f6337d8ff6 button.colab-df-convert');\n",
              "        buttonEl.style.display =\n",
              "          google.colab.kernel.accessAllowed ? 'block' : 'none';\n",
              "\n",
              "        async function convertToInteractive(key) {\n",
              "          const element = document.querySelector('#df-b3fa463c-7d2d-4e25-a81c-91f6337d8ff6');\n",
              "          const dataTable =\n",
              "            await google.colab.kernel.invokeFunction('convertToInteractive',\n",
              "                                                     [key], {});\n",
              "          if (!dataTable) return;\n",
              "\n",
              "          const docLinkHtml = 'Like what you see? Visit the ' +\n",
              "            '<a target=\"_blank\" href=https://colab.research.google.com/notebooks/data_table.ipynb>data table notebook</a>'\n",
              "            + ' to learn more about interactive tables.';\n",
              "          element.innerHTML = '';\n",
              "          dataTable['output_type'] = 'display_data';\n",
              "          await google.colab.output.renderOutput(dataTable, element);\n",
              "          const docLink = document.createElement('div');\n",
              "          docLink.innerHTML = docLinkHtml;\n",
              "          element.appendChild(docLink);\n",
              "        }\n",
              "      </script>\n",
              "    </div>\n",
              "  </div>\n",
              "  "
            ]
          },
          "metadata": {},
          "execution_count": 26
        }
      ]
    },
    {
      "cell_type": "code",
      "source": [
        "data.drop(\"with_milk\", axis=1, inplace=True)"
      ],
      "metadata": {
        "id": "NSJ50OkZPxx1"
      },
      "execution_count": 6,
      "outputs": []
    },
    {
      "cell_type": "code",
      "source": [
        "data[\"aftertaste\"].fillna(0, inplace = True)"
      ],
      "metadata": {
        "id": "Fbuuug4bQHLJ"
      },
      "execution_count": 7,
      "outputs": []
    },
    {
      "cell_type": "code",
      "source": [
        "data[\"roast\"].fillna(\"No Roast\", inplace = True)"
      ],
      "metadata": {
        "id": "rXv-d2drfEtH"
      },
      "execution_count": 8,
      "outputs": []
    },
    {
      "cell_type": "code",
      "source": [
        "print(len(data[(data['roast']=='Dark') & (data['aftertaste']==2)]))\n",
        "print(len(data[(data['roast']=='Light') & (data['aftertaste']==2)]))\n",
        "print(len(data[(data['roast']=='Medium') & (data['aftertaste']==2)]))\n",
        "print(len(data[(data['roast']=='Medium-Dark') & (data['aftertaste']==2)]))\n",
        "print(len(data[(data['roast']=='Medium-Light') & (data['aftertaste']==2)]))\n",
        "print(len(data[(data['roast']=='No Roast') & (data['aftertaste']==2)]))"
      ],
      "metadata": {
        "colab": {
          "base_uri": "https://localhost:8080/"
        },
        "id": "PCPoivA9airX",
        "outputId": "72bc2631-d893-4cb9-85fd-139fe8c144e3"
      },
      "execution_count": 18,
      "outputs": [
        {
          "output_type": "stream",
          "name": "stdout",
          "text": [
            "0\n",
            "1\n",
            "0\n",
            "0\n",
            "0\n",
            "0\n"
          ]
        }
      ]
    },
    {
      "cell_type": "code",
      "source": [
        "print(len(data[(data['region_africa_arabia']==1) & (data['aftertaste']==6)]))\n",
        "print(len(data[(data['region_caribbean']==1) & (data['aftertaste']==6)]))\n",
        "print(len(data[(data['region_central_america']==1) & (data['aftertaste']==6)]))\n",
        "print(len(data[(data['region_hawaii']==1) & (data['aftertaste']==6)]))\n",
        "print(len(data[(data['region_asia_pacific']==1) & (data['aftertaste']==6)]))\n",
        "print(len(data[(data['region_south_america']==1) & (data['aftertaste']==6)]))"
      ],
      "metadata": {
        "colab": {
          "base_uri": "https://localhost:8080/"
        },
        "id": "jJz4SbpV7wes",
        "outputId": "6a87982f-dd0d-49a4-f3c8-0ab3f310e7c0"
      },
      "execution_count": 20,
      "outputs": [
        {
          "output_type": "stream",
          "name": "stdout",
          "text": [
            "0\n",
            "0\n",
            "0\n",
            "0\n",
            "0\n",
            "1\n"
          ]
        }
      ]
    },
    {
      "cell_type": "code",
      "source": [],
      "metadata": {
        "id": "fnalaANPaixI"
      },
      "execution_count": null,
      "outputs": []
    },
    {
      "cell_type": "code",
      "source": [
        "# Membuat variabel baru\n",
        "X = data[['region_africa_arabia','region_caribbean','region_central_america','region_hawaii','region_asia_pacific','region_south_america', 'roast']]\n",
        "y = data['aftertaste']"
      ],
      "metadata": {
        "id": "HOaiDwnMtvZ5"
      },
      "execution_count": null,
      "outputs": []
    },
    {
      "cell_type": "code",
      "source": [
        "y"
      ],
      "metadata": {
        "colab": {
          "base_uri": "https://localhost:8080/"
        },
        "id": "2j_chLsa-QHZ",
        "outputId": "0f673f4c-8b17-4be8-99bd-795b75155054"
      },
      "execution_count": null,
      "outputs": [
        {
          "output_type": "execute_result",
          "data": {
            "text/plain": [
              "0       0\n",
              "1       0\n",
              "2       1\n",
              "3       0\n",
              "4       0\n",
              "       ..\n",
              "2277    0\n",
              "2278    1\n",
              "2279    0\n",
              "2280    0\n",
              "2281    0\n",
              "Name: region_africa_arabia, Length: 2282, dtype: int64"
            ]
          },
          "metadata": {},
          "execution_count": 72
        }
      ]
    },
    {
      "cell_type": "code",
      "source": [
        "data.shape"
      ],
      "metadata": {
        "colab": {
          "base_uri": "https://localhost:8080/"
        },
        "id": "ngkeku-sP4xn",
        "outputId": "2523659b-f43c-481d-e554-96aa4ac983ee"
      },
      "execution_count": null,
      "outputs": [
        {
          "output_type": "execute_result",
          "data": {
            "text/plain": [
              "(2282, 36)"
            ]
          },
          "metadata": {},
          "execution_count": 32
        }
      ]
    },
    {
      "cell_type": "code",
      "source": [
        "# Split data training dan testing\n",
        "X_train, X_test, y_train, y_test = train_test_split(X, y, test_size=0.2, random_state=0)"
      ],
      "metadata": {
        "id": "I4Ohx5phxEO3"
      },
      "execution_count": null,
      "outputs": []
    },
    {
      "cell_type": "code",
      "source": [
        "# Kita akan menggunakan CategoricalNB untuk kasus ini\n",
        "\n",
        "# Inisasi CategoricalNB\n",
        "cnb = CategoricalNB()\n",
        "\n",
        "# Fit model\n",
        "# Label y harus dalam bentu 1D atau (n_samples,)\n",
        "cnb.fit(X_train, y_train)\n",
        "\n",
        "# Prediksi dengan data training\n",
        "y_train_pred = cnb.predict(X_train)\n",
        "\n",
        "# Evaluasi akurasi training\n",
        "acc_train = accuracy_score(y_train, y_train_pred)\n",
        "\n",
        "# Prediksi test data\n",
        "y_test_pred = cnb.predict(X_test)\n",
        "\n",
        "# Evaluasi model dengan metric akurasi\n",
        "acc_test = accuracy_score(y_test, y_test_pred)\n",
        "\n",
        "# Print hasil evaluasi\n",
        "print(f'Hasil akurasi data train: {acc_train}')\n",
        "print(f'Hasil akurasi data test: {acc_test}')"
      ],
      "metadata": {
        "colab": {
          "base_uri": "https://localhost:8080/"
        },
        "id": "yQ7HQT21yAir",
        "outputId": "1c1f7515-b7e0-43c1-ffdd-4dc89cc2e773"
      },
      "execution_count": null,
      "outputs": [
        {
          "output_type": "stream",
          "name": "stdout",
          "text": [
            "Hasil akurasi data train: 0.7479452054794521\n",
            "Hasil akurasi data test: 0.7264770240700219\n"
          ]
        }
      ]
    },
    {
      "cell_type": "code",
      "source": [
        "# Pada kasus kali ini kita akan menggunakan seluruh parameter default dari RandomForest\n",
        "# Untuk detail parameter (hyperparameter) silahkan cek dokumentasi\n",
        "\n",
        "rf = RandomForestClassifier(n_estimators=10, random_state=1)\n",
        "\n",
        "# Sesuaikan dt ke set training\n",
        "rf.fit(X_train, y_train)\n",
        "\n",
        "# Memprediksi label set test\n",
        "y_pred_rf = rf.predict(X_test)\n",
        "\n",
        "#  menghitung set accuracy\n",
        "acc_rf = accuracy_score(y_test, y_pred_rf)\n",
        "print(\"Test set accuracy: {:.2f}\".format(acc_rf))\n",
        "print(f\"Test set accuracy: {acc_rf}\")"
      ],
      "metadata": {
        "id": "pMIz9kVW06oN",
        "colab": {
          "base_uri": "https://localhost:8080/"
        },
        "outputId": "b48fa788-9c64-4370-fdde-7f0a4a7735c1"
      },
      "execution_count": null,
      "outputs": [
        {
          "output_type": "stream",
          "name": "stdout",
          "text": [
            "Test set accuracy: 0.72\n",
            "Test set accuracy: 0.7199124726477024\n"
          ]
        }
      ]
    }
  ]
}